{
 "cells": [
  {
   "cell_type": "code",
   "execution_count": 2,
   "metadata": {},
   "outputs": [
    {
     "name": "stdout",
     "output_type": "stream",
     "text": [
      "Files already downloaded and verified\n",
      "train Mode: Contain 20431 images\n"
     ]
    }
   ],
   "source": [
    "from ImbalanceCIFAR import IMBALANCECIFAR10\n",
    "trainset = IMBALANCECIFAR10('train', imbalance_ratio=0.1, root='/data/kanghao/datasets/data-cifar100')"
   ]
  },
  {
   "cell_type": "code",
   "execution_count": 18,
   "metadata": {
    "scrolled": true
   },
   "outputs": [
    {
     "name": "stdout",
     "output_type": "stream",
     "text": [
      "[5000, 3871, 2997, 2320, 1796, 1391, 1077, 834, 645, 500]\n"
     ]
    }
   ],
   "source": [
    "import torch\n",
    "trainloader = torch.utils.data.DataLoader(trainset, batch_size=16,\n",
    "                                            shuffle=True, num_workers=4)\n",
    "\n",
    "cls_nums = [0]*10\n",
    "for x,y in trainloader:\n",
    "    y = y.numpy()\n",
    "    for i in y:\n",
    "        cls_nums[i] = cls_nums[i] + 1\n",
    "print(cls_nums)"
   ]
  },
  {
   "cell_type": "code",
   "execution_count": 7,
   "metadata": {},
   "outputs": [
    {
     "name": "stdout",
     "output_type": "stream",
     "text": [
      "[5000, 5000, 5000, 5000, 5000, 5000, 5000, 5000, 5000, 5000]\n"
     ]
    }
   ],
   "source": [
    "from ClassAwareSampler import get_sampler\n",
    "\n",
    "sampler = get_sampler()\n",
    "trainloader = torch.utils.data.DataLoader(trainset, batch_size=16, sampler= sampler(trainset, 4),\n",
    "                                                shuffle=False, num_workers=4)\n",
    "cls_nums = [0]*10\n",
    "for x,y in trainloader:\n",
    "    y = y.numpy()\n",
    "    for i in y:\n",
    "        cls_nums[i] = cls_nums[i] + 1\n",
    "print(cls_nums)"
   ]
  },
  {
   "cell_type": "code",
   "execution_count": 12,
   "metadata": {},
   "outputs": [
    {
     "name": "stdout",
     "output_type": "stream",
     "text": [
      "====> Decay GAP: 30\n",
      "FixedWeights: 20431.0\n",
      "[3537, 2917, 2668, 2174, 1862, 1657, 1586, 1492, 1320, 1218]\n"
     ]
    }
   ],
   "source": [
    "from ClassPrioritySampler import get_sampler\n",
    "\n",
    "sampler = get_sampler()\n",
    "trainloader = torch.utils.data.DataLoader(trainset, batch_size=16, sampler= sampler(trainset,lam=1),\n",
    "                                                shuffle=False, num_workers=4)\n",
    "cls_nums = [0]*10\n",
    "for x,y in trainloader:\n",
    "    y = y.numpy()\n",
    "    for i in y:\n",
    "        cls_nums[i] = cls_nums[i] + 1\n",
    "print(cls_nums)"
   ]
  },
  {
   "cell_type": "code",
   "execution_count": 24,
   "metadata": {},
   "outputs": [
    {
     "name": "stdout",
     "output_type": "stream",
     "text": [
      "[2060, 1988, 2097, 2081, 2000, 2014, 2040, 2091, 2023, 2037]\n"
     ]
    }
   ],
   "source": [
    "from BalanceSampler import ImbalancedDatasetSampler\n",
    "import numpy as np\n",
    "\n",
    "def callback_get_label(dataset, idx):\n",
    "    #callback function used in imbalanced dataset loader.\n",
    "    target = dataset.labels[idx]\n",
    "    return target\n",
    "\n",
    "trainloader = torch.utils.data.DataLoader(trainset, batch_size=16, sampler= ImbalancedDatasetSampler(trainset,callback_get_label=callback_get_label),\n",
    "                                                shuffle=False, num_workers=4)\n",
    "cls_nums = [0]*10\n",
    "for x,y in trainloader:\n",
    "    y = y.numpy()\n",
    "    for i in y:\n",
    "        cls_nums[i] = cls_nums[i] + 1\n",
    "print(cls_nums)"
   ]
  },
  {
   "cell_type": "code",
   "execution_count": 23,
   "metadata": {},
   "outputs": [
    {
     "name": "stdout",
     "output_type": "stream",
     "text": [
      "torch.Size([20431])\n"
     ]
    }
   ],
   "source": [
    "sampler= ImbalancedDatasetSampler(trainset,num_samples=50000,callback_get_label=callback_get_label)\n",
    "print(sampler.weights.shape)"
   ]
  },
  {
   "cell_type": "code",
   "execution_count": null,
   "metadata": {},
   "outputs": [],
   "source": [
    "from reverseSampler import ImbalancedDatasetSampler\n",
    "import numpy as np\n",
    "\n",
    "def callback_get_label(dataset, idx):\n",
    "    #callback function used in imbalanced dataset loader.\n",
    "    target = dataset.labels[idx]\n",
    "    return target\n",
    "\n",
    "trainloader = torch.utils.data.DataLoader(trainset, batch_size=16, sampler= ImbalancedDatasetSampler(trainset,callback_get_label=callback_get_label),\n",
    "                                                shuffle=False, num_workers=4)\n",
    "cls_nums = [0]*10\n",
    "for x,y in trainloader:\n",
    "    y = y.numpy()\n",
    "    for i in y:\n",
    "        cls_nums[i] = cls_nums[i] + 1\n",
    "print(cls_nums)"
   ]
  }
 ],
 "metadata": {
  "kernelspec": {
   "display_name": "torch",
   "language": "python",
   "name": "torch"
  },
  "language_info": {
   "codemirror_mode": {
    "name": "ipython",
    "version": 3
   },
   "file_extension": ".py",
   "mimetype": "text/x-python",
   "name": "python",
   "nbconvert_exporter": "python",
   "pygments_lexer": "ipython3",
   "version": "3.6.12"
  }
 },
 "nbformat": 4,
 "nbformat_minor": 4
}
